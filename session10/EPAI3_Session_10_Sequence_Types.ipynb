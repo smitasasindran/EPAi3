{
  "nbformat": 4,
  "nbformat_minor": 0,
  "metadata": {
    "colab": {
      "name": "EPAI3 - Session 10- Sequence Types.ipynb",
      "provenance": [],
      "collapsed_sections": [],
      "authorship_tag": "ABX9TyO4aTdcayyE2xJQwtBnnLnA",
      "include_colab_link": true
    },
    "kernelspec": {
      "name": "python3",
      "display_name": "Python 3"
    },
    "language_info": {
      "name": "python"
    }
  },
  "cells": [
    {
      "cell_type": "markdown",
      "metadata": {
        "id": "view-in-github",
        "colab_type": "text"
      },
      "source": [
        "<a href=\"https://colab.research.google.com/github/smitasasindran/EPAi3/blob/master/session10/EPAI3_Session_10_Sequence_Types.ipynb\" target=\"_parent\"><img src=\"https://colab.research.google.com/assets/colab-badge.svg\" alt=\"Open In Colab\"/></a>"
      ]
    },
    {
      "cell_type": "code",
      "metadata": {
        "id": "L3u7zxSCpDTC"
      },
      "source": [
        "import math\n",
        "from functools import lru_cache\n"
      ],
      "execution_count": 1,
      "outputs": []
    },
    {
      "cell_type": "markdown",
      "metadata": {
        "id": "9uGF4mhUu692"
      },
      "source": [
        "### **Polygon Class**"
      ]
    },
    {
      "cell_type": "code",
      "metadata": {
        "id": "tzPU_k69vt26"
      },
      "source": [
        "class Polygon:\n",
        "    \"\"\"\n",
        "    This class represents a regular strictly convex polygon of 'n' vertices, and circumradius 'r'\n",
        "    \"\"\"\n",
        "\n",
        "    def __init__(self, n, r):\n",
        "        if n <= 2:\n",
        "            raise ValueError('Number of vertices of polygon cannot be less than 3')\n",
        "\n",
        "        self.no_of_vertices = n\n",
        "        self.circumradius = r\n",
        "\n",
        "        self._interior_angle = None\n",
        "        self._edge_length = None\n",
        "        self._apothem = None\n",
        "        self._area = None\n",
        "        self._perimeter = None\n",
        "\n",
        "    def calc_interior_angle(self):\n",
        "        angle = (self.no_of_vertices - 2) * 180 / math.pi\n",
        "        return angle\n",
        "\n",
        "    def calc_edge_length(self):\n",
        "        s = 2 * self.circumradius * math.sin(math.pi / self.no_of_vertices)\n",
        "        return s\n",
        "\n",
        "    def calc_apothem(self):\n",
        "        a = self.circumradius * math.cos(math.pi / self.no_of_vertices)\n",
        "        return a\n",
        "\n",
        "    def calc_area(self):\n",
        "        area = 0.5 * self.no_of_vertices * self.edge_length * self.apothem\n",
        "        return area\n",
        "\n",
        "    def calc_perimeter(self):\n",
        "        perimeter = self.no_of_vertices * self.edge_length\n",
        "        return perimeter\n",
        "\n",
        "    @property\n",
        "    def interior_angle(self):\n",
        "        if not self._interior_angle:\n",
        "            self._interior_angle = self.calc_interior_angle()\n",
        "        return self._interior_angle\n",
        "\n",
        "    @property\n",
        "    def edge_length(self):\n",
        "        if not self._edge_length:\n",
        "            self._edge_length = self.calc_edge_length()\n",
        "        return self._edge_length\n",
        "\n",
        "    @property\n",
        "    def apothem(self):\n",
        "        if not self._apothem:\n",
        "            self._apothem = self.calc_apothem()\n",
        "        return self._apothem\n",
        "\n",
        "    @property\n",
        "    def area(self):\n",
        "        if not self._area:\n",
        "            self._area = self.calc_area()\n",
        "        return self._area\n",
        "\n",
        "    @property\n",
        "    def perimeter(self):\n",
        "        if not self._perimeter:\n",
        "            self._perimeter = self.calc_perimeter()\n",
        "        return self._perimeter\n",
        "\n",
        "\n",
        "    def __repr__(self):\n",
        "        return f'Polygon(Vertices: {self.no_of_vertices}, CircumRadius: {self.circumradius})'\n",
        "\n",
        "    def __gt__(self, polygon2):\n",
        "        return self.no_of_vertices > polygon2.no_of_vertices\n",
        "\n",
        "    def __eq__(self, polygon2):\n",
        "        return self.no_of_vertices == polygon2.no_of_vertices and self.circumradius == polygon2.circumradius\n",
        "\n"
      ],
      "execution_count": 2,
      "outputs": []
    },
    {
      "cell_type": "markdown",
      "metadata": {
        "id": "MbpjRHBLvlYv"
      },
      "source": [
        "#### **Testing implementation**"
      ]
    },
    {
      "cell_type": "code",
      "metadata": {
        "colab": {
          "base_uri": "https://localhost:8080/"
        },
        "id": "sDkWtWpHvEIJ",
        "outputId": "e4cd67fe-8a37-4e29-c4e4-6c365365de72"
      },
      "source": [
        "polygon = Polygon(5, 7)\n",
        "print(polygon)"
      ],
      "execution_count": 3,
      "outputs": [
        {
          "output_type": "stream",
          "text": [
            "Polygon(Vertices: 5, CircumRadius: 7)\n"
          ],
          "name": "stdout"
        }
      ]
    },
    {
      "cell_type": "code",
      "metadata": {
        "colab": {
          "base_uri": "https://localhost:8080/"
        },
        "id": "i56rAsNBv2xk",
        "outputId": "1451327e-4fc5-4001-909e-7340e77bf4dd"
      },
      "source": [
        "print(\"Interior angle: \", polygon.interior_angle)\n",
        "print(\"Edge Length: \", polygon.edge_length)\n",
        "print(\"Apothem: \", polygon.apothem )\n",
        "print(\"Area: \", polygon.area)\n",
        "print(\"Perimeter: \", polygon.perimeter)\n"
      ],
      "execution_count": 4,
      "outputs": [
        {
          "output_type": "stream",
          "text": [
            "Interior angle:  171.88733853924697\n",
            "Edge Length:  8.228993532094623\n",
            "Apothem:  5.663118960624632\n",
            "Area:  116.5044232461563\n",
            "Perimeter:  41.144967660473114\n"
          ],
          "name": "stdout"
        }
      ]
    },
    {
      "cell_type": "markdown",
      "metadata": {
        "id": "BqHx39b-vAb8"
      },
      "source": [
        "### **Polygon Custom Sequence class**"
      ]
    },
    {
      "cell_type": "code",
      "metadata": {
        "id": "bwkJAJjdvJmn"
      },
      "source": [
        "class CustomPolygonSequencer:\n",
        "\n",
        "    \"\"\"\n",
        "    This class takes in the max number of vertices, and a common circumradius, to define a\n",
        "    sequence of 'n' regular strictly convex polygons\n",
        "    \"\"\"\n",
        "\n",
        "    def __init__(self, n, r):\n",
        "        if n <= 2:\n",
        "            raise ValueError('Number of vertices for polygon sequence cannot be less than 3')\n",
        "\n",
        "        self.n = n - 2\n",
        "        self.circumradius = r\n",
        "\n",
        "    def max_efficiency_polygon(self):\n",
        "        polygons = [CustomPolygonSequencer._polygon(i, self.circumradius) for i in range(0, self.n)]\n",
        "        # print(\"Polygons are: \", polygons)\n",
        "        # area_perimeter_ratio = [polygon.area / polygon.perimeter for polygon in polygons]\n",
        "        # print(area_perimeter_ratio)\n",
        "\n",
        "        area_perimeter_ratio = [(polygon.area / polygon.perimeter, i) for i, polygon in enumerate(polygons)]\n",
        "        print(\"Ratios: \", area_perimeter_ratio)\n",
        "        print(\"Max with index is: \", max(area_perimeter_ratio))\n",
        "\n",
        "        return max(area_perimeter_ratio)\n",
        "\n",
        "    def __len__(self):\n",
        "        return self.n\n",
        "\n",
        "    def __getitem__(self, index):\n",
        "        print(\"\\nIn getitem: index=\", index)\n",
        "        if isinstance(index, int):\n",
        "            if index < 0 or index > self.n-1:\n",
        "                raise IndexError\n",
        "            else:\n",
        "                return CustomPolygonSequencer._polygon(index, self.circumradius)\n",
        "        else:\n",
        "            start, stop, step = index.indices(self.n)\n",
        "            rng = range(start, stop, step)\n",
        "            return [CustomPolygonSequencer._polygon(i, self.circumradius) for i in rng]\n",
        "\n",
        "    @staticmethod\n",
        "    @lru_cache(2 ** 5)\n",
        "    def _polygon(n, r):\n",
        "        # Polygon sequence starts from 3. ie polygon at position 0 will have 3 sides, ... etc\n",
        "        polygon = Polygon(n + 3, r)\n",
        "        print(f\"Polygon for index {n} is {polygon}\")\n",
        "        return polygon"
      ],
      "execution_count": 5,
      "outputs": []
    },
    {
      "cell_type": "code",
      "metadata": {
        "colab": {
          "base_uri": "https://localhost:8080/"
        },
        "id": "J_XDN-9BvdYn",
        "outputId": "de31a7b6-2341-47fa-b62c-5889bf646e01"
      },
      "source": [
        "polygon_seq = CustomPolygonSequencer(25, 7)\n",
        "max_ratio, index = polygon_seq.max_efficiency_polygon()\n",
        "print(max_ratio)\n",
        "max_polygon = polygon_seq[index]\n",
        "print(\"=====================\")\n",
        "print(\"Most efficient polygon out of a sequence of polygons from 3 to 25 vertices is: \", max_polygon)\n",
        "print(\"=====================\")\n",
        "print(list(polygon_seq))"
      ],
      "execution_count": 6,
      "outputs": [
        {
          "output_type": "stream",
          "text": [
            "Polygon for index 0 is Polygon(Vertices: 3, CircumRadius: 7)\n",
            "Polygon for index 1 is Polygon(Vertices: 4, CircumRadius: 7)\n",
            "Polygon for index 2 is Polygon(Vertices: 5, CircumRadius: 7)\n",
            "Polygon for index 3 is Polygon(Vertices: 6, CircumRadius: 7)\n",
            "Polygon for index 4 is Polygon(Vertices: 7, CircumRadius: 7)\n",
            "Polygon for index 5 is Polygon(Vertices: 8, CircumRadius: 7)\n",
            "Polygon for index 6 is Polygon(Vertices: 9, CircumRadius: 7)\n",
            "Polygon for index 7 is Polygon(Vertices: 10, CircumRadius: 7)\n",
            "Polygon for index 8 is Polygon(Vertices: 11, CircumRadius: 7)\n",
            "Polygon for index 9 is Polygon(Vertices: 12, CircumRadius: 7)\n",
            "Polygon for index 10 is Polygon(Vertices: 13, CircumRadius: 7)\n",
            "Polygon for index 11 is Polygon(Vertices: 14, CircumRadius: 7)\n",
            "Polygon for index 12 is Polygon(Vertices: 15, CircumRadius: 7)\n",
            "Polygon for index 13 is Polygon(Vertices: 16, CircumRadius: 7)\n",
            "Polygon for index 14 is Polygon(Vertices: 17, CircumRadius: 7)\n",
            "Polygon for index 15 is Polygon(Vertices: 18, CircumRadius: 7)\n",
            "Polygon for index 16 is Polygon(Vertices: 19, CircumRadius: 7)\n",
            "Polygon for index 17 is Polygon(Vertices: 20, CircumRadius: 7)\n",
            "Polygon for index 18 is Polygon(Vertices: 21, CircumRadius: 7)\n",
            "Polygon for index 19 is Polygon(Vertices: 22, CircumRadius: 7)\n",
            "Polygon for index 20 is Polygon(Vertices: 23, CircumRadius: 7)\n",
            "Polygon for index 21 is Polygon(Vertices: 24, CircumRadius: 7)\n",
            "Polygon for index 22 is Polygon(Vertices: 25, CircumRadius: 7)\n",
            "Ratios:  [(1.7500000000000004, 0), (2.4748737341529163, 1), (2.831559480312316, 2), (3.0310889132455356, 3), (3.1533910376584675, 4), (3.2335783637895035, 5), (3.2889241727506793, 6), (3.3286978070330373, 7), (3.3582254076507407, 8), (3.3807403920117385, 9), (3.398296360991182, 10), (3.4122476926363827, 11), (3.42351660256832, 12), (3.4327484814113065, 13), (3.440405848893656, 14), (3.446827135542728, 15), (3.4522645619095282, 16), (3.456909192082982, 17), (3.46090789178795, 18), (3.464375046583264, 19), (3.467400811127158, 20), (3.4700570148083365, 21), (3.4724014546006727, 22)]\n",
            "Max with index is:  (3.4724014546006727, 22)\n",
            "3.4724014546006727\n",
            "\n",
            "In getitem: index= 22\n",
            "=====================\n",
            "Most efficient polygon out of a sequence of polygons from 3 to 25 vertices is:  Polygon(Vertices: 25, CircumRadius: 7)\n",
            "=====================\n",
            "\n",
            "In getitem: index= 0\n",
            "\n",
            "In getitem: index= 1\n",
            "\n",
            "In getitem: index= 2\n",
            "\n",
            "In getitem: index= 3\n",
            "\n",
            "In getitem: index= 4\n",
            "\n",
            "In getitem: index= 5\n",
            "\n",
            "In getitem: index= 6\n",
            "\n",
            "In getitem: index= 7\n",
            "\n",
            "In getitem: index= 8\n",
            "\n",
            "In getitem: index= 9\n",
            "\n",
            "In getitem: index= 10\n",
            "\n",
            "In getitem: index= 11\n",
            "\n",
            "In getitem: index= 12\n",
            "\n",
            "In getitem: index= 13\n",
            "\n",
            "In getitem: index= 14\n",
            "\n",
            "In getitem: index= 15\n",
            "\n",
            "In getitem: index= 16\n",
            "\n",
            "In getitem: index= 17\n",
            "\n",
            "In getitem: index= 18\n",
            "\n",
            "In getitem: index= 19\n",
            "\n",
            "In getitem: index= 20\n",
            "\n",
            "In getitem: index= 21\n",
            "\n",
            "In getitem: index= 22\n",
            "\n",
            "In getitem: index= 23\n",
            "[Polygon(Vertices: 3, CircumRadius: 7), Polygon(Vertices: 4, CircumRadius: 7), Polygon(Vertices: 5, CircumRadius: 7), Polygon(Vertices: 6, CircumRadius: 7), Polygon(Vertices: 7, CircumRadius: 7), Polygon(Vertices: 8, CircumRadius: 7), Polygon(Vertices: 9, CircumRadius: 7), Polygon(Vertices: 10, CircumRadius: 7), Polygon(Vertices: 11, CircumRadius: 7), Polygon(Vertices: 12, CircumRadius: 7), Polygon(Vertices: 13, CircumRadius: 7), Polygon(Vertices: 14, CircumRadius: 7), Polygon(Vertices: 15, CircumRadius: 7), Polygon(Vertices: 16, CircumRadius: 7), Polygon(Vertices: 17, CircumRadius: 7), Polygon(Vertices: 18, CircumRadius: 7), Polygon(Vertices: 19, CircumRadius: 7), Polygon(Vertices: 20, CircumRadius: 7), Polygon(Vertices: 21, CircumRadius: 7), Polygon(Vertices: 22, CircumRadius: 7), Polygon(Vertices: 23, CircumRadius: 7), Polygon(Vertices: 24, CircumRadius: 7), Polygon(Vertices: 25, CircumRadius: 7)]\n"
          ],
          "name": "stdout"
        }
      ]
    },
    {
      "cell_type": "code",
      "metadata": {
        "id": "1psrCyHnwfPB"
      },
      "source": [
        ""
      ],
      "execution_count": 6,
      "outputs": []
    }
  ]
}