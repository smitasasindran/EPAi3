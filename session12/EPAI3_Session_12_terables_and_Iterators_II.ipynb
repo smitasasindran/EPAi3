{
  "nbformat": 4,
  "nbformat_minor": 0,
  "metadata": {
    "colab": {
      "name": "EPAI3 - Session 12- terables and Iterators - II.ipynb",
      "provenance": [],
      "collapsed_sections": [
        "9uGF4mhUu692",
        "MbpjRHBLvlYv"
      ],
      "authorship_tag": "ABX9TyPRETEPnX8SbFkoXh4hMMKk",
      "include_colab_link": true
    },
    "kernelspec": {
      "name": "python3",
      "display_name": "Python 3"
    },
    "language_info": {
      "name": "python"
    }
  },
  "cells": [
    {
      "cell_type": "markdown",
      "metadata": {
        "id": "view-in-github",
        "colab_type": "text"
      },
      "source": [
        "<a href=\"https://colab.research.google.com/github/smitasasindran/EPAi3/blob/master/session12/EPAI3_Session_12_terables_and_Iterators_II.ipynb\" target=\"_parent\"><img src=\"https://colab.research.google.com/assets/colab-badge.svg\" alt=\"Open In Colab\"/></a>"
      ]
    },
    {
      "cell_type": "code",
      "metadata": {
        "id": "L3u7zxSCpDTC"
      },
      "source": [
        "import math\n",
        "from functools import lru_cache\n"
      ],
      "execution_count": 1,
      "outputs": []
    },
    {
      "cell_type": "markdown",
      "metadata": {
        "id": "9uGF4mhUu692"
      },
      "source": [
        "### **Polygon Class**"
      ]
    },
    {
      "cell_type": "code",
      "metadata": {
        "id": "tzPU_k69vt26"
      },
      "source": [
        "import math\n",
        "\n",
        "class Polygon:\n",
        "    \"\"\"\n",
        "    This class represents a regular strictly convex polygon of 'n' vertices, and circumradius 'r'\n",
        "    \"\"\"\n",
        "\n",
        "    def __init__(self, n, r):\n",
        "        if n <= 2:\n",
        "            raise ValueError('Number of vertices of polygon cannot be less than 3')\n",
        "\n",
        "        self._n = n\n",
        "        self._R = r\n",
        "\n",
        "        self._interior_angle = None\n",
        "        self._side_length = None\n",
        "        self._apothem = None\n",
        "        self._area = None\n",
        "        self._perimeter = None\n",
        "        self._efficiency = None\n",
        "\n",
        "    def calc_interior_angle(self):\n",
        "        angle = (self._n - 2) * 180 / self._n\n",
        "        return angle\n",
        "\n",
        "    def calc_side_length(self):\n",
        "        s = 2 * self._R * math.sin(math.pi / self._n)\n",
        "        return s\n",
        "\n",
        "    def calc_apothem(self):\n",
        "        a = self._R * math.cos(math.pi / self._n)\n",
        "        return a\n",
        "\n",
        "    def calc_area(self):\n",
        "        area = 0.5 * self._n * self.side_length * self.apothem\n",
        "        return area\n",
        "\n",
        "    def calc_perimeter(self):\n",
        "        perimeter = self._n * self.side_length\n",
        "        return perimeter\n",
        "\n",
        "    def calc_efficiency(self):\n",
        "        efficiency = self.area / self.perimeter\n",
        "        return efficiency\n",
        "\n",
        "    @property\n",
        "    def count_vertices(self):\n",
        "        return self._n\n",
        "\n",
        "    @property\n",
        "    def count_edges(self):\n",
        "        return self._n\n",
        "\n",
        "    @property\n",
        "    def circumradius(self):\n",
        "        return self._R\n",
        "\n",
        "    @property\n",
        "    def interior_angle(self):\n",
        "        if not self._interior_angle:\n",
        "            self._interior_angle = self.calc_interior_angle()\n",
        "        return self._interior_angle\n",
        "\n",
        "    @property\n",
        "    def side_length(self):\n",
        "        if not self._side_length:\n",
        "            self._side_length = self.calc_side_length()\n",
        "        return self._side_length\n",
        "\n",
        "    @property\n",
        "    def apothem(self):\n",
        "        if not self._apothem:\n",
        "            self._apothem = self.calc_apothem()\n",
        "        return self._apothem\n",
        "\n",
        "    @property\n",
        "    def area(self):\n",
        "        if not self._area:\n",
        "            self._area = self.calc_area()\n",
        "        return self._area\n",
        "\n",
        "    @property\n",
        "    def perimeter(self):\n",
        "        if not self._perimeter:\n",
        "            self._perimeter = self.calc_perimeter()\n",
        "        return self._perimeter\n",
        "\n",
        "    @property\n",
        "    def efficiency(self):\n",
        "        if not self._efficiency:\n",
        "            self._efficiency = self.calc_efficiency()\n",
        "        return self._efficiency\n",
        "\n",
        "    def __repr__(self):\n",
        "        return f'Polygon(n={self._n}, R={self._R})'\n",
        "\n",
        "    def __gt__(self, polygon2):\n",
        "        return self.count_edges > polygon2.count_edges\n",
        "\n",
        "    def __eq__(self, polygon2):\n",
        "        return self.count_edges == polygon2.count_edges and self.circumradius == polygon2.circumradius\n",
        "\n"
      ],
      "execution_count": 2,
      "outputs": []
    },
    {
      "cell_type": "markdown",
      "metadata": {
        "id": "MbpjRHBLvlYv"
      },
      "source": [
        "#### **Testing implementation**"
      ]
    },
    {
      "cell_type": "code",
      "metadata": {
        "colab": {
          "base_uri": "https://localhost:8080/"
        },
        "id": "sDkWtWpHvEIJ",
        "outputId": "a74e39f9-f7f8-4d3b-b662-19818bfc05ed"
      },
      "source": [
        "polygon = Polygon(5, 7)\n",
        "print(polygon)"
      ],
      "execution_count": 3,
      "outputs": [
        {
          "output_type": "stream",
          "text": [
            "Polygon(n=5, R=7)\n"
          ],
          "name": "stdout"
        }
      ]
    },
    {
      "cell_type": "code",
      "metadata": {
        "colab": {
          "base_uri": "https://localhost:8080/"
        },
        "id": "i56rAsNBv2xk",
        "outputId": "12de6125-3b9d-43c7-ffff-92964918f04a"
      },
      "source": [
        "print(\"Interior angle: \", polygon.interior_angle)\n",
        "print(\"Side Length: \", polygon.side_length)\n",
        "print(\"Apothem: \", polygon.apothem )\n",
        "print(\"Area: \", polygon.area)\n",
        "print(\"Perimeter: \", polygon.perimeter)\n"
      ],
      "execution_count": 5,
      "outputs": [
        {
          "output_type": "stream",
          "text": [
            "Interior angle:  108.0\n",
            "Side Length:  8.228993532094623\n",
            "Apothem:  5.663118960624632\n",
            "Area:  116.5044232461563\n",
            "Perimeter:  41.144967660473114\n"
          ],
          "name": "stdout"
        }
      ]
    },
    {
      "cell_type": "markdown",
      "metadata": {
        "id": "BqHx39b-vAb8"
      },
      "source": [
        "### **Polygon Sequence Iteratable class**"
      ]
    },
    {
      "cell_type": "code",
      "metadata": {
        "id": "bwkJAJjdvJmn"
      },
      "source": [
        "from functools import lru_cache\n",
        "\n",
        "class Polygons:\n",
        "    \"\"\"\n",
        "    This class takes in the max number of vertices, and a common circumradius, to define a\n",
        "    sequence of 'n' regular strictly convex polygons.\n",
        "    This class is an iterable\n",
        "    \"\"\"\n",
        "\n",
        "    def __init__(self, n, r):\n",
        "        if n <= 2:\n",
        "            raise ValueError('Number of vertices for polygon sequence cannot be less than 3')\n",
        "\n",
        "        self.n = n - 2\n",
        "        self.circumradius = r\n",
        "        # self.polygons = self.get_polygons()\n",
        "\n",
        "    def max_efficiency_polygon(self):\n",
        "        # area_perimeter_ratio = [(polygon.efficiency, i) for i, polygon in enumerate(self.polygons)]\n",
        "        polygons = self.get_polygons()\n",
        "        print(\"Polygons are: \", polygons)\n",
        "\n",
        "        area_perimeter_ratio = [(polygon.efficiency, i) for i, polygon in enumerate(polygons)]\n",
        "        return max(area_perimeter_ratio)\n",
        "\n",
        "    def get_polygons(self):\n",
        "        \"\"\"Function to get the sequence of polygons\"\"\"\n",
        "        p = [Polygons._polygon(i, self.circumradius) for i in range(0, self.n)]\n",
        "        return p\n",
        "\n",
        "    def __iter__(self):\n",
        "        print(\"Calling Custom Polygons __iter__ function\")\n",
        "        return self.PolygonIterator(self)\n",
        "\n",
        "    def __len__(self):\n",
        "        return self.n\n",
        "\n",
        "    def __repr__(self):\n",
        "        return f'Polygons(m={self.n}, R={self.circumradius})'\n",
        "\n",
        "    def __getitem__(self, index):\n",
        "        # print(\"\\nIn getitem: index=\", index)\n",
        "        if isinstance(index, int):\n",
        "            if index < 0 or index > self.n-1:\n",
        "                raise IndexError\n",
        "            else:\n",
        "                return Polygons._polygon(index, self.circumradius)\n",
        "        else:\n",
        "            start, stop, step = index.indices(self.n)\n",
        "            rng = range(start, stop, step)\n",
        "            return [Polygons._polygon(i, self.circumradius) for i in rng]\n",
        "\n",
        "    @staticmethod\n",
        "    # @lru_cache(2 ** 5)\n",
        "    def _polygon(n, r):\n",
        "        # Polygon sequence starts from 3. ie polygon at position 0 will have 3 sides, ... etc\n",
        "        polygon = Polygon(n + 3, r)\n",
        "        # print(f\"Polygon for index {n} is {polygon}\")\n",
        "        return polygon\n",
        "\n",
        "\n",
        "    class PolygonIterator:\n",
        "        def __init__(self, polygon_obj):\n",
        "            self._index = 0\n",
        "            self._polygon_obj = polygon_obj\n",
        "\n",
        "        def __iter__(self):\n",
        "            print(\"Calling PolygonIterator __iter__ function\")\n",
        "            return self\n",
        "\n",
        "        def __next__(self):\n",
        "            print(\"Calling PolygonIterator __next__ function: index=\", self._index)\n",
        "\n",
        "            # if self._index >= len(self._polygon_obj.polygons):\n",
        "            if self._index >= self._polygon_obj.n:\n",
        "                raise StopIteration\n",
        "            else:\n",
        "                # item = self._polygon_obj.polygons[self._index]\n",
        "                item = self._polygon_obj._polygon(self._index, self._polygon_obj.circumradius)\n",
        "                self._index += 1\n",
        "                return item\n",
        "\n"
      ],
      "execution_count": 7,
      "outputs": []
    },
    {
      "cell_type": "code",
      "metadata": {
        "colab": {
          "base_uri": "https://localhost:8080/",
          "height": 862
        },
        "id": "vM-KKOasTL28",
        "outputId": "9c7f464a-52bf-4382-b4f7-c8f18b80e89e"
      },
      "source": [
        "# Testing Polygon sequence\n",
        "\n",
        "polygons = Polygons(5, 7)\n",
        "\n",
        "print(\"Polygon iter 1: \", list(enumerate(polygons)))\n",
        "print(\"\\n\\n\")\n",
        "\n",
        "print(\"Polygon iter 2: For loop\")\n",
        "for polygon in polygons:\n",
        "    print(\"Polygon: \", polygon)\n",
        "\n",
        "print(\"\\n\\n\")\n",
        "\n",
        "print(\"With iterator and next:\")\n",
        "poly_iter = iter(polygons)\n",
        "print(next(poly_iter))\n",
        "print(next(poly_iter))\n",
        "print(next(poly_iter))\n",
        "print(next(poly_iter))\n",
        "\n"
      ],
      "execution_count": 8,
      "outputs": [
        {
          "output_type": "stream",
          "text": [
            "Calling Custom Polygons __iter__ function\n",
            "Calling PolygonIterator __next__ function: index= 0\n",
            "Calling PolygonIterator __next__ function: index= 1\n",
            "Calling PolygonIterator __next__ function: index= 2\n",
            "Calling PolygonIterator __next__ function: index= 3\n",
            "Polygon iter 1:  [(0, Polygon(n=3, R=7)), (1, Polygon(n=4, R=7)), (2, Polygon(n=5, R=7))]\n",
            "\n",
            "\n",
            "\n",
            "Polygon iter 2: For loop\n",
            "Calling Custom Polygons __iter__ function\n",
            "Calling PolygonIterator __next__ function: index= 0\n",
            "Polygon:  Polygon(n=3, R=7)\n",
            "Calling PolygonIterator __next__ function: index= 1\n",
            "Polygon:  Polygon(n=4, R=7)\n",
            "Calling PolygonIterator __next__ function: index= 2\n",
            "Polygon:  Polygon(n=5, R=7)\n",
            "Calling PolygonIterator __next__ function: index= 3\n",
            "\n",
            "\n",
            "\n",
            "With iterator and next:\n",
            "Calling Custom Polygons __iter__ function\n",
            "Calling PolygonIterator __next__ function: index= 0\n",
            "Polygon(n=3, R=7)\n",
            "Calling PolygonIterator __next__ function: index= 1\n",
            "Polygon(n=4, R=7)\n",
            "Calling PolygonIterator __next__ function: index= 2\n",
            "Polygon(n=5, R=7)\n",
            "Calling PolygonIterator __next__ function: index= 3\n"
          ],
          "name": "stdout"
        },
        {
          "output_type": "error",
          "ename": "StopIteration",
          "evalue": "ignored",
          "traceback": [
            "\u001b[0;31m---------------------------------------------------------------------------\u001b[0m",
            "\u001b[0;31mStopIteration\u001b[0m                             Traceback (most recent call last)",
            "\u001b[0;32m<ipython-input-8-a12868e822d5>\u001b[0m in \u001b[0;36m<module>\u001b[0;34m()\u001b[0m\n\u001b[1;32m     17\u001b[0m \u001b[0mprint\u001b[0m\u001b[0;34m(\u001b[0m\u001b[0mnext\u001b[0m\u001b[0;34m(\u001b[0m\u001b[0mpoly_iter\u001b[0m\u001b[0;34m)\u001b[0m\u001b[0;34m)\u001b[0m\u001b[0;34m\u001b[0m\u001b[0;34m\u001b[0m\u001b[0m\n\u001b[1;32m     18\u001b[0m \u001b[0mprint\u001b[0m\u001b[0;34m(\u001b[0m\u001b[0mnext\u001b[0m\u001b[0;34m(\u001b[0m\u001b[0mpoly_iter\u001b[0m\u001b[0;34m)\u001b[0m\u001b[0;34m)\u001b[0m\u001b[0;34m\u001b[0m\u001b[0;34m\u001b[0m\u001b[0m\n\u001b[0;32m---> 19\u001b[0;31m \u001b[0mprint\u001b[0m\u001b[0;34m(\u001b[0m\u001b[0mnext\u001b[0m\u001b[0;34m(\u001b[0m\u001b[0mpoly_iter\u001b[0m\u001b[0;34m)\u001b[0m\u001b[0;34m)\u001b[0m\u001b[0;34m\u001b[0m\u001b[0;34m\u001b[0m\u001b[0m\n\u001b[0m\u001b[1;32m     20\u001b[0m \u001b[0;34m\u001b[0m\u001b[0m\n",
            "\u001b[0;32m<ipython-input-7-4270598bbe5a>\u001b[0m in \u001b[0;36m__next__\u001b[0;34m(self)\u001b[0m\n\u001b[1;32m     74\u001b[0m             \u001b[0;31m# if self._index >= len(self._polygon_obj.polygons):\u001b[0m\u001b[0;34m\u001b[0m\u001b[0;34m\u001b[0m\u001b[0;34m\u001b[0m\u001b[0m\n\u001b[1;32m     75\u001b[0m             \u001b[0;32mif\u001b[0m \u001b[0mself\u001b[0m\u001b[0;34m.\u001b[0m\u001b[0m_index\u001b[0m \u001b[0;34m>=\u001b[0m \u001b[0mself\u001b[0m\u001b[0;34m.\u001b[0m\u001b[0m_polygon_obj\u001b[0m\u001b[0;34m.\u001b[0m\u001b[0mn\u001b[0m\u001b[0;34m:\u001b[0m\u001b[0;34m\u001b[0m\u001b[0;34m\u001b[0m\u001b[0m\n\u001b[0;32m---> 76\u001b[0;31m                 \u001b[0;32mraise\u001b[0m \u001b[0mStopIteration\u001b[0m\u001b[0;34m\u001b[0m\u001b[0;34m\u001b[0m\u001b[0m\n\u001b[0m\u001b[1;32m     77\u001b[0m             \u001b[0;32melse\u001b[0m\u001b[0;34m:\u001b[0m\u001b[0;34m\u001b[0m\u001b[0;34m\u001b[0m\u001b[0m\n\u001b[1;32m     78\u001b[0m                 \u001b[0;31m# item = self._polygon_obj.polygons[self._index]\u001b[0m\u001b[0;34m\u001b[0m\u001b[0;34m\u001b[0m\u001b[0;34m\u001b[0m\u001b[0m\n",
            "\u001b[0;31mStopIteration\u001b[0m: "
          ]
        }
      ]
    },
    {
      "cell_type": "code",
      "metadata": {
        "id": "1psrCyHnwfPB"
      },
      "source": [
        ""
      ],
      "execution_count": null,
      "outputs": []
    }
  ]
}