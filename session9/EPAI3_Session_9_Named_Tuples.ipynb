{
  "nbformat": 4,
  "nbformat_minor": 0,
  "metadata": {
    "colab": {
      "name": "EPAI3 - Session 9- Named Tuples.ipynb",
      "provenance": [],
      "authorship_tag": "ABX9TyP2sBWyY1RLQMoSTRGJ1k5X",
      "include_colab_link": true
    },
    "kernelspec": {
      "name": "python3",
      "display_name": "Python 3"
    },
    "language_info": {
      "name": "python"
    }
  },
  "cells": [
    {
      "cell_type": "markdown",
      "metadata": {
        "id": "view-in-github",
        "colab_type": "text"
      },
      "source": [
        "<a href=\"https://colab.research.google.com/github/smitasasindran/EPAi3/blob/master/session9/EPAI3_Session_9_Named_Tuples.ipynb\" target=\"_parent\"><img src=\"https://colab.research.google.com/assets/colab-badge.svg\" alt=\"Open In Colab\"/></a>"
      ]
    },
    {
      "cell_type": "code",
      "metadata": {
        "colab": {
          "base_uri": "https://localhost:8080/"
        },
        "id": "G5Oyr0scli7_",
        "outputId": "129bacd3-75ca-4056-c983-8ae367111272"
      },
      "source": [
        "pip install faker"
      ],
      "execution_count": 5,
      "outputs": [
        {
          "output_type": "stream",
          "text": [
            "Requirement already satisfied: faker in /usr/local/lib/python3.7/dist-packages (8.10.0)\n",
            "Requirement already satisfied: python-dateutil>=2.4 in /usr/local/lib/python3.7/dist-packages (from faker) (2.8.1)\n",
            "Requirement already satisfied: text-unidecode==1.3 in /usr/local/lib/python3.7/dist-packages (from faker) (1.3)\n",
            "Requirement already satisfied: six>=1.5 in /usr/local/lib/python3.7/dist-packages (from python-dateutil>=2.4->faker) (1.15.0)\n"
          ],
          "name": "stdout"
        }
      ]
    },
    {
      "cell_type": "markdown",
      "metadata": {
        "id": "bLQ8gB6xmNjV"
      },
      "source": [
        "### **Importing common modules**"
      ]
    },
    {
      "cell_type": "code",
      "metadata": {
        "id": "qqpBwTPE-X-Y"
      },
      "source": [
        "from faker import Faker\n",
        "from datetime import datetime, date\n",
        "from dateutil.relativedelta import relativedelta\n",
        "from collections import namedtuple\n",
        "from time import perf_counter\n",
        "import random"
      ],
      "execution_count": 6,
      "outputs": []
    },
    {
      "cell_type": "code",
      "metadata": {
        "id": "9iaGR212laIS"
      },
      "source": [
        "Person = namedtuple(\"Person\", \"age location blood_type\")"
      ],
      "execution_count": 7,
      "outputs": []
    },
    {
      "cell_type": "markdown",
      "metadata": {
        "id": "jwM312vCmQEp"
      },
      "source": [
        "### **Creating generic helper functions for profiles**"
      ]
    },
    {
      "cell_type": "code",
      "metadata": {
        "id": "K3MYozhkldNQ"
      },
      "source": [
        "def timed(reps):\n",
        "\tdef decorator(fn):\n",
        "\t\tdef inner(*args, **kwargs):\n",
        "\t\t\ttotal_elapsed = 0\n",
        "\t\t\tfor i in range(reps):\n",
        "\t\t\t\tstart = perf_counter()\n",
        "\t\t\t\tresult = fn(*args, **kwargs)\n",
        "\t\t\t\tend = perf_counter()\n",
        "\t\t\t\telapsed = end - start\n",
        "\t\t\t\ttotal_elapsed += elapsed\n",
        "\n",
        "\t\t\tavg_elapsed = total_elapsed / reps\n",
        "\t\t\t# print(f'Average time taken in {reps} iterations: {avg_elapsed}')\n",
        "\t\t\treturn result, avg_elapsed\n",
        "\t\treturn inner\n",
        "\treturn decorator\n"
      ],
      "execution_count": 8,
      "outputs": []
    },
    {
      "cell_type": "code",
      "metadata": {
        "id": "wBBe1-xglfA4"
      },
      "source": [
        "def get_profiles(n, make_tuple=False):\n",
        "    \"\"\"\n",
        "    This function generates n fake profiles containing the age, longitude, latitude and blood type\n",
        "    It will return a list of either a named tuples or a dictionies, depending on the flag passed\n",
        "    \"\"\"\n",
        "    Faker.seed(0)\n",
        "    faker = Faker()\n",
        "    btypes = ('A', 'B', 'O', 'AB')\n",
        "    profiles = []\n",
        "\n",
        "    for i in range(n):\n",
        "        # profile = faker.simple_profile()\n",
        "        # location = faker.latlng()\n",
        "        profile = faker.profile()\n",
        "        location = profile['current_location']\n",
        "        blood_type = profile['blood_group']\n",
        "\n",
        "        birthdate = profile['birthdate']\n",
        "        now = date.today()\n",
        "        age = relativedelta(now, birthdate).years\n",
        "\n",
        "        # btype_sign = '+' if faker.boolean(chance_of_getting_true=70) else '-'\n",
        "        # btype = faker.random_element(elements=btypes)\n",
        "        # blood_type = btype_sign + btype\n",
        "\n",
        "        if make_tuple:\n",
        "           person = Person(age, location, blood_type)\n",
        "        else:\n",
        "            person = {'age': age, 'location': location, 'blood_type': blood_type}\n",
        "\n",
        "        profiles.append(person)\n",
        "\n",
        "    return profiles\n"
      ],
      "execution_count": 9,
      "outputs": []
    },
    {
      "cell_type": "code",
      "metadata": {
        "id": "79VMf4trloLF"
      },
      "source": [
        "@timed(10)\n",
        "def get_summary_named_tuples(n, profiles):\n",
        "    \"\"\"\n",
        "    This function calcuates the mean age, oldest age, latitude, longitude and max blood type\n",
        "    where the input is a  list of named tuples\n",
        "    \"\"\"\n",
        "    age = 0\n",
        "    lat = 0\n",
        "    lng = 0\n",
        "    blood_type_counts = {}\n",
        "    oldest = 0\n",
        "\n",
        "    for profile in profiles:\n",
        "        age += profile.age\n",
        "        lat += profile.location[0]\n",
        "        lng += profile.location[1]\n",
        "        if profile.blood_type in blood_type_counts:\n",
        "            blood_type_counts[profile.blood_type] = blood_type_counts[profile.blood_type] + 1\n",
        "        else:\n",
        "            blood_type_counts[profile.blood_type] = 1\n",
        "        oldest = oldest if oldest >= profile.age else profile.age\n",
        "\n",
        "    mean_age, lat, lng, max_bt = calculate(n, age, lat, lng, blood_type_counts)\n",
        "\n",
        "    return mean_age, oldest, lat, lng, max_bt\n"
      ],
      "execution_count": 10,
      "outputs": []
    },
    {
      "cell_type": "code",
      "metadata": {
        "id": "Klh3ELDVlqVI"
      },
      "source": [
        "@timed(10)\n",
        "def get_summary_dict(n, profiles):\n",
        "    \"\"\"\n",
        "        This function calcuates the mean age, oldest age, latitude, longitude and max blood type\n",
        "        where the input is a list of dictionaries\n",
        "    \"\"\"\n",
        "    age = 0\n",
        "    lat = 0\n",
        "    lng = 0\n",
        "    blood_type_counts = {}\n",
        "    oldest = 0\n",
        "\n",
        "    for profile in profiles:\n",
        "        age += profile['age']\n",
        "        lat += profile['location'][0]\n",
        "        lng += profile['location'][1]\n",
        "        if profile['blood_type'] in blood_type_counts:\n",
        "            blood_type_counts[profile['blood_type']] = blood_type_counts[profile['blood_type']] + 1\n",
        "        else:\n",
        "            blood_type_counts[profile['blood_type']] = 1\n",
        "        oldest = oldest if oldest >= profile['age'] else profile['age']\n",
        "\n",
        "    mean_age, lat, lng, max_bt = calculate(n, age, lat, lng, blood_type_counts)\n",
        "\n",
        "    return mean_age, oldest, lat, lng, max_bt\n"
      ],
      "execution_count": 11,
      "outputs": []
    },
    {
      "cell_type": "code",
      "metadata": {
        "id": "6wgvhAUPluKq"
      },
      "source": [
        "def calculate(n, age, lat, lng, blood_type_counts):\n",
        "    mean_age = age / n\n",
        "    lat = lat / n\n",
        "    lng = lng / n\n",
        "    # max_bt_count = max(blood_type_counts.values())\n",
        "    max_bt = max(blood_type_counts, key=blood_type_counts.get)\n",
        "    # print(max_bt_count, blood_type_counts)\n",
        "    return mean_age, lat, lng, max_bt\n"
      ],
      "execution_count": 12,
      "outputs": []
    },
    {
      "cell_type": "markdown",
      "metadata": {
        "id": "47cYoruOmbx7"
      },
      "source": [
        "### **Get profile summary using named tuples**"
      ]
    },
    {
      "cell_type": "code",
      "metadata": {
        "id": "Gm8GYcTJlvU2"
      },
      "source": [
        "def profiles_summary_named_tuples(n=10000, debug=True):\n",
        "    \"\"\"\n",
        "    This function takes n randomly generated profiles, and uses namedtuples to calculate\n",
        "    the largest blood type, mean-current_location, oldest_person_age, and average age\n",
        "    \"\"\"\n",
        "    profiles = get_profiles(n, make_tuple=True)\n",
        "    result = get_summary_named_tuples(n, profiles)\n",
        "    mean_age, oldest, lat, lng, max_bt = result[0]\n",
        "    time_elapsed = result[1]\n",
        "\n",
        "    if debug:\n",
        "        print(\"\\n ==== Profiles with Named Tuples function: === \")\n",
        "        print(\"Mean age: \", mean_age)\n",
        "        print(\"Oldest age: \", oldest)\n",
        "        print(f'Latitude/Longitude: ({lat}, {lng}), ')\n",
        "        # print(\"Blood type counts: \", blood_type_counts)\n",
        "        print(\"Max blood type: \", max_bt)\n",
        "        print(\"Time taken for named tuples: \", time_elapsed)\n",
        "\n",
        "    return mean_age, oldest, lat, lng, max_bt, time_elapsed\n"
      ],
      "execution_count": 13,
      "outputs": []
    },
    {
      "cell_type": "markdown",
      "metadata": {
        "id": "onFMmVjomg5O"
      },
      "source": [
        "### **Get Profile summary with dictionaries**"
      ]
    },
    {
      "cell_type": "code",
      "metadata": {
        "id": "PxMhlyUxlxgP"
      },
      "source": [
        "def profiles_summary_dict(n=10000, debug=True):\n",
        "    \"\"\"\n",
        "    This function takes n randomly generated profiles, and uses namedtuples to calculate\n",
        "    the largest blood type, mean-current_location, oldest_person_age, and average age\n",
        "    \"\"\"\n",
        "    profiles = get_profiles(n, make_tuple=False)\n",
        "    result = get_summary_dict(n, profiles)\n",
        "    mean_age, oldest, lat, lng, max_bt = result[0]\n",
        "    time_elapsed = result[1]\n",
        "\n",
        "    if debug:\n",
        "        print(\"\\n ==== Profiles with Dictionaries function: === \")\n",
        "        print(\"Mean age: \", mean_age)\n",
        "        print( \"Oldest age: \", oldest)\n",
        "        print(f'Latitude/Longitude: ({lat}, {lng}), ')\n",
        "        # print(\"Blood type counts: \", blood_type_counts)\n",
        "        print(\"Max blood type: \", max_bt)\n",
        "        print(\"Time taken for dict: \", time_elapsed)\n",
        "\n",
        "    return mean_age, oldest, lat, lng, max_bt, time_elapsed\n"
      ],
      "execution_count": 14,
      "outputs": []
    },
    {
      "cell_type": "markdown",
      "metadata": {
        "id": "Q3-pCfp5mkaP"
      },
      "source": [
        "### **Stock Exchange**"
      ]
    },
    {
      "cell_type": "code",
      "metadata": {
        "id": "nNELm8qClz7-"
      },
      "source": [
        "def get_stocks(n):\n",
        "    \"\"\"\n",
        "    This function creates 'n' dummy stock listings\n",
        "    \"\"\"\n",
        "    Faker.seed(0)\n",
        "    faker = Faker()\n",
        "    Stock = namedtuple(\"Stock\", \"name symbol open high close\")\n",
        "    stocks = []\n",
        "\n",
        "    for i in range(n):\n",
        "        company = faker.company()\n",
        "\n",
        "        open = random.random() * random.randint(100, 1000)\n",
        "        high = open * random.randint(1, 10)\n",
        "        close = random.random() * random.randint(100, 1000)\n",
        "\n",
        "        up = company.upper().replace(\" \", \"\").replace(\".\", \"\").replace(\",\", \"\").replace('-', \"\")\n",
        "        symbol = \"\".join(faker.random_choices(up,length=3))\n",
        "\n",
        "        stock = Stock(company, symbol, open, high, close)\n",
        "        stocks.append(stock)\n",
        "\n",
        "    return stocks\n"
      ],
      "execution_count": 15,
      "outputs": []
    },
    {
      "cell_type": "code",
      "metadata": {
        "id": "nZFSjsLyl4xD"
      },
      "source": [
        "def stock_market(n):\n",
        "    \"\"\"\n",
        "    This function creates a stock exchange with n imaginary companies, and calculates\n",
        "    what value the stock market started at, what was the highest value during the day,\n",
        "    and where did it end.\n",
        "    \"\"\"\n",
        "\n",
        "    stocks = get_stocks(n)\n",
        "    open = 0\n",
        "    high = 0\n",
        "    close = 0\n",
        "    high_name = \"\"\n",
        "\n",
        "    print('Sample stock: ', stocks[:2])\n",
        "    for stock in stocks:\n",
        "        open += stock.open\n",
        "        close += stock.close\n",
        "\n",
        "        if high <= stock.high:\n",
        "            high = stock.high\n",
        "            high_name = stock.name\n",
        "\n",
        "    mean_open = open / n\n",
        "    mean_close = close / n\n",
        "\n",
        "    print(\"Stock exchange summary:\")\n",
        "    print(\"Opening value: \", open)\n",
        "    print(\"Closing value: \", close)\n",
        "    print(\"Highest stock value seen: \", high_name, \", value: \", high)\n",
        "    return open, close, mean_open, mean_close, high\n"
      ],
      "execution_count": 22,
      "outputs": []
    },
    {
      "cell_type": "markdown",
      "metadata": {
        "id": "1BBSuPjZmoUi"
      },
      "source": [
        "### **Running the code**"
      ]
    },
    {
      "cell_type": "code",
      "metadata": {
        "colab": {
          "base_uri": "https://localhost:8080/"
        },
        "id": "klmiWDQGmC9v",
        "outputId": "a43578c9-9bbe-46a3-c6b9-b991a58c720a"
      },
      "source": [
        "# Profile summary for profiles stored as named tuples\n",
        "\n",
        "profiles_summary_named_tuples(10000)"
      ],
      "execution_count": 17,
      "outputs": [
        {
          "output_type": "stream",
          "text": [
            "\n",
            " ==== Profiles with Named Tuples function: === \n",
            "Mean age:  57.8398\n",
            "Oldest age:  115\n",
            "Latitude/Longitude: (0.4583500264, -0.5367035854), \n",
            "Max blood type:  AB+\n",
            "Time taken for named tuples:  0.010573607399999218\n"
          ],
          "name": "stdout"
        },
        {
          "output_type": "execute_result",
          "data": {
            "text/plain": [
              "(57.8398,\n",
              " 115,\n",
              " Decimal('0.4583500264'),\n",
              " Decimal('-0.5367035854'),\n",
              " 'AB+',\n",
              " 0.010573607399999218)"
            ]
          },
          "metadata": {
            "tags": []
          },
          "execution_count": 17
        }
      ]
    },
    {
      "cell_type": "code",
      "metadata": {
        "colab": {
          "base_uri": "https://localhost:8080/"
        },
        "id": "k3oqWCVdmsVb",
        "outputId": "815c841b-2c01-4368-9440-0752aad0f9af"
      },
      "source": [
        "# Profile summary for profiles stored as dictionaries\n",
        "\n",
        "profiles_summary_dict(10000)"
      ],
      "execution_count": 18,
      "outputs": [
        {
          "output_type": "stream",
          "text": [
            "\n",
            " ==== Profiles with Dictionaries function: === \n",
            "Mean age:  57.8398\n",
            "Oldest age:  115\n",
            "Latitude/Longitude: (0.4583500264, -0.5367035854), \n",
            "Max blood type:  AB+\n",
            "Time taken for dict:  0.008933099899996933\n"
          ],
          "name": "stdout"
        },
        {
          "output_type": "execute_result",
          "data": {
            "text/plain": [
              "(57.8398,\n",
              " 115,\n",
              " Decimal('0.4583500264'),\n",
              " Decimal('-0.5367035854'),\n",
              " 'AB+',\n",
              " 0.008933099899996933)"
            ]
          },
          "metadata": {
            "tags": []
          },
          "execution_count": 18
        }
      ]
    },
    {
      "cell_type": "code",
      "metadata": {
        "colab": {
          "base_uri": "https://localhost:8080/"
        },
        "id": "wrKEY4PZmzZ1",
        "outputId": "0de60c93-0592-4e8b-c299-e75a29bf9d02"
      },
      "source": [
        "# Stock exchange example\n",
        "\n",
        "stock_market(1000)"
      ],
      "execution_count": 23,
      "outputs": [
        {
          "output_type": "stream",
          "text": [
            "Sample stock:  [Stock(name='Chang-Fisher', symbol='AFG', open=413.0795443779086, high=4130.795443779086, close=63.5587748444294), Stock(name='Faulkner-Howard', symbol='RLA', open=21.12105556336095, high=147.84738894352665, close=571.8685082076024)]\n",
            "Stock exchange summary:\n",
            "Opening value:  282047.2272888383\n",
            "Closing value:  266323.9742403802\n",
            "Highest stock value seen:  Yoder LLC , value:  8947.988953897011\n"
          ],
          "name": "stdout"
        },
        {
          "output_type": "execute_result",
          "data": {
            "text/plain": [
              "(282047.2272888383,\n",
              " 266323.9742403802,\n",
              " 282.0472272888383,\n",
              " 266.3239742403802,\n",
              " 8947.988953897011)"
            ]
          },
          "metadata": {
            "tags": []
          },
          "execution_count": 23
        }
      ]
    }
  ]
}